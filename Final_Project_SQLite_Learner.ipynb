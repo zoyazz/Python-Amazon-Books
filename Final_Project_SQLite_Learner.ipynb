{
 "cells": [
  {
   "cell_type": "markdown",
   "metadata": {},
   "source": [
    "<center>\n",
    "    <img src=\"https://cf-courses-data.s3.us.cloud-object-storage.appdomain.cloud/assets/logos/SN_web_lightmode.png\" width=\"300\">\n",
    "</center>\n",
    "\n",
    "# Assignment: Notebook for Peer Assignment\n",
    "\n",
    "Estimated time needed: 45 minutes\n"
   ]
  },
  {
   "cell_type": "markdown",
   "metadata": {},
   "source": [
    "# Assignment Scenario\n",
    "\n",
    "Congratulations! You have just been hired by a US Venture Capital firm as a data analyst.\n",
    "\n",
    "The company is considering foreign grain markets to help meet its supply chain requirements for its recent investments in the microbrewery and microdistillery industry, which is involved with the production and distribution of craft beers and spirits.\n",
    "\n",
    "Your first task is to provide a high level analysis of crop production in Canada. Your stakeholders want to understand the current and historical performance of certain crop types in terms of supply and price volatility. For now they are mainly interested in a macro-view of Canada's crop farming industry, and how it relates to the relative value of the Canadian and US dollars.\n"
   ]
  },
  {
   "cell_type": "markdown",
   "metadata": {},
   "source": [
    "# Introduction\n",
    "\n",
    "Using this R notebook you will:\n",
    "\n",
    "1.  Understand four datasets\n",
    "2.  Load the datasets into four separate tables in a database\n",
    "3.  Execute SQL queries to answer assignment questions\n",
    "\n",
    "You have already encountered two of these datasets in the previous practice lab. You will be able to reuse much of the work you did there to prepare your database tables for executing SQL queries.\n"
   ]
  },
  {
   "cell_type": "markdown",
   "metadata": {},
   "source": [
    "# Understand the datasets\n",
    "\n",
    "To complete the assignment problems in this notebook you will be using subsetted snapshots of two datasets from Statistics Canada, and one from the Bank of Canada. The links to the prepared datasets are provided in the next section; the interested student can explore the landing pages for the source datasets as follows:\n",
    "\n",
    "1.  <a href=\"https://www150.statcan.gc.ca/t1/tbl1/en/tv.action?utm_medium=Exinfluencer&utm_source=Exinfluencer&utm_content=000026UJ&utm_term=10006555&utm_id=NA-SkillsNetwork-Channel-SkillsNetworkCoursesIBMRP0203ENSkillsNetwork23863830-2021-01-01&pid=3210035901\">Canadian Principal Crops (Data & Metadata)</a>\n",
    "2.  <a href=\"https://www150.statcan.gc.ca/t1/tbl1/en/tv.action?utm_medium=Exinfluencer&utm_source=Exinfluencer&utm_content=000026UJ&utm_term=10006555&utm_id=NA-SkillsNetwork-Channel-SkillsNetworkCoursesIBMRP0203ENSkillsNetwork23863830-2021-01-01&pid=3210007701\">Farm product prices (Data & Metadata)</a>\n",
    "3.  <a href=\"https://www.bankofcanada.ca/rates/exchange/daily-exchange-rates?utm_medium=Exinfluencer&utm_source=Exinfluencer&utm_content=000026UJ&utm_term=10006555&utm_id=NA-SkillsNetwork-Channel-SkillsNetworkCoursesIBMRP0203ENSkillsNetwork23863830-2021-01-01\">Bank of Canada daily average exchange rates</a>\n",
    "\n",
    "### 1. Canadian Principal Crops Data \\*\n",
    "\n",
    "This dataset contains agricultural production measures for the principle crops grown in Canada, including a breakdown by province and teritory, for each year from 1908 to 2020.\n",
    "\n",
    "For this assignment you will use a preprocessed snapshot of this dataset (see below).\n",
    "\n",
    "A detailed description of this dataset can be obtained from the StatsCan Data Portal at:\n",
    "[https://www150.statcan.gc.ca/t1/tbl1/en/tv.action?pid=3210035901](https://www150.statcan.gc.ca/t1/tbl1/en/tv.action?utm_medium=Exinfluencer&utm_source=Exinfluencer&utm_content=000026UJ&utm_term=10006555&utm_id=NA-SkillsNetwork-Channel-SkillsNetworkCoursesIBMRP0203ENSkillsNetwork23863830-2021-01-01&pid=3210035901)\\\n",
    "Detailed information is included in the metadata file and as header text in the data file, which can be downloaded - look for the 'download options' link.\n",
    "\n",
    "### 2. Farm product prices\n",
    "\n",
    "This dataset contains monthly average farm product prices for Canadian crops and livestock by province and teritory, from 1980 to 2020 (or 'last year', whichever is greatest).\n",
    "\n",
    "For this assignment you will use a preprocessed snapshot of this dataset (see below).\n",
    "\n",
    "A description of this dataset can be obtained from the StatsCan Data Portal at:\n",
    "[https://www150.statcan.gc.ca/t1/tbl1/en/tv.action?pid=3210007701](https://www150.statcan.gc.ca/t1/tbl1/en/tv.action?utm_medium=Exinfluencer&utm_source=Exinfluencer&utm_content=000026UJ&utm_term=10006555&utm_id=NA-SkillsNetwork-Channel-SkillsNetworkCoursesIBMRP0203ENSkillsNetwork23863830-2021-01-01&pid=3210007701)\n",
    "The information is included in the metadata file, which can be downloaded - look for the 'download options' link.\n",
    "\n",
    "### 3. Bank of Canada daily average exchange rates \\*\n",
    "\n",
    "This dataset contains the daily average exchange rates for multiple foreign currencies. Exchange rates are expressed as 1 unit of the foreign currency converted into Canadian dollars. It includes only the latest four years of data, and the rates are published once each business day by 16:30 ET.\n",
    "\n",
    "For this assignment you will use a snapshot of this dataset with only the USD-CAD exchange rates included (see next section). We have also prepared a monthly averaged version which you will be using below.\n",
    "\n",
    "A brief description of this dataset and the original dataset can be obtained from the Bank of Canada Data Portal at:\n",
    "[https://www.bankofcanada.ca/rates/exchange/daily-exchange-rates/](https://www.bankofcanada.ca/rates/exchange/daily-exchange-rates/?utm_medium=Exinfluencer&utm_source=Exinfluencer&utm_content=000026UJ&utm_term=10006555&utm_id=NA-SkillsNetwork-Channel-SkillsNetworkCoursesIBMRP0203ENSkillsNetwork23863830-2021-01-01)\n",
    "\n",
    "( \\* these datasets are the same as the ones you used in the practice lab)\n"
   ]
  },
  {
   "cell_type": "markdown",
   "metadata": {},
   "source": [
    "### Dataset URLs\n",
    "\n",
    "1.  Annual Crop Data: <https://cf-courses-data.s3.us.cloud-object-storage.appdomain.cloud/IBM-RP0203EN-SkillsNetwork/labs/Final%20Project/Annual_Crop_Data.csv>\n",
    "\n",
    "2.  Farm product prices: <https://cf-courses-data.s3.us.cloud-object-storage.appdomain.cloud/IBM-RP0203EN-SkillsNetwork/labs/Final%20Project/Monthly_Farm_Prices.csv>\n",
    "\n",
    "3.  Daily FX Data: <https://cf-courses-data.s3.us.cloud-object-storage.appdomain.cloud/IBM-RP0203EN-SkillsNetwork/labs/Final%20Project/Daily_FX.csv>\n",
    "\n",
    "4.  Monthly FX Data: <https://cf-courses-data.s3.us.cloud-object-storage.appdomain.cloud/IBM-RP0203EN-SkillsNetwork/labs/Final%20Project/Monthly_FX.csv>\n",
    "\n",
    "<span style=\"color:red\">**IMPORTANT:**</span> You will be loading these datasets directly into R data frames from these URLs instead of from the StatsCan and Bank of Canada portals. The versions provided at these URLs are simplified and subsetted versions of the original datasets.\n"
   ]
  },
  {
   "cell_type": "markdown",
   "metadata": {},
   "source": [
    "#### Now let's load these datasets into four separate tables.\n",
    "\n",
    "Let's first load the RSQLite package:\n"
   ]
  },
  {
   "cell_type": "code",
   "execution_count": 2,
   "metadata": {
    "tags": []
   },
   "outputs": [
    {
     "name": "stderr",
     "output_type": "stream",
     "text": [
      "Updating HTML index of packages in '.Library'\n",
      "Making 'packages.html' ... done\n"
     ]
    }
   ],
   "source": [
    "install.packages(c('RSQLite'), repos = 'https://cran.rstudio.com',dependecies=TRUE)"
   ]
  },
  {
   "cell_type": "markdown",
   "metadata": {},
   "source": [
    "#### Restart Kernel\n",
    "\n",
    "After installing the RSQLite package, it is necessary to restart R Kernel. Click **Kernel** > **Restart Kernel** from the main menu. This will register the newly installed packages. Now proceed to load the RSQLite package. \n"
   ]
  },
  {
   "cell_type": "code",
   "execution_count": 1,
   "metadata": {
    "tags": []
   },
   "outputs": [],
   "source": [
    "library(\"RSQLite\")\n",
    "library(DBI)"
   ]
  },
  {
   "cell_type": "markdown",
   "metadata": {},
   "source": [
    "## Problem 1\n",
    "\n",
    "#### Create tables\n",
    "\n",
    "Establish a connection **conn** to the RSQLite database **FinalDB.sqlite**, and create the following four tables.\n",
    "\n",
    "1.  **CROP_DATA**\n",
    "2.  **FARM_PRICES**\n",
    "3.  **DAILY_FX**\n",
    "4.  **MONTHLY_FX**\n",
    "\n",
    "The previous practice lab will help you accomplish this.\n"
   ]
  },
  {
   "cell_type": "code",
   "execution_count": 2,
   "metadata": {
    "tags": []
   },
   "outputs": [],
   "source": [
    "conn <- dbConnect(RSQLite::SQLite(),\"FinalDB.sqlite\")"
   ]
  },
  {
   "cell_type": "code",
   "execution_count": 18,
   "metadata": {
    "tags": []
   },
   "outputs": [
    {
     "ename": "ERROR",
     "evalue": "Error: no such table: CROP_DATA\n",
     "execution_count": 18,
     "output_type": "error",
     "traceback": [
      "Error: no such table: CROP_DATA\nTraceback:\n",
      "1. dbRemoveTable(conn, \"CROP_DATA\")",
      "2. dbRemoveTable(conn, \"CROP_DATA\")",
      "3. .local(conn, name, ...)",
      "4. dbExecute(conn, paste0(\"DROP TABLE \", extra, name))",
      "5. dbExecute(conn, paste0(\"DROP TABLE \", extra, name))",
      "6. dbSendStatement(conn, statement, ...)",
      "7. dbSendStatement(conn, statement, ...)",
      "8. dbSendQuery(conn, statement, ...)",
      "9. dbSendQuery(conn, statement, ...)",
      "10. .local(conn, statement, ...)",
      "11. new(\"SQLiteResult\", sql = statement, ptr = result_create(conn@ptr, \n  .     statement), conn = conn, bigint = conn@bigint)",
      "12. initialize(value, ...)",
      "13. initialize(value, ...)",
      "14. result_create(conn@ptr, statement)"
     ]
    }
   ],
   "source": [
    "dbRemoveTable(conn, \"CROP_DATA\")\n",
    "dbRemoveTable(conn, \"FARM_PRICES\")\n",
    "dbRemoveTable(conn, \"DAILY_FX\")\n",
    "dbRemoveTable(conn, \"MONTHLY_FX\")"
   ]
  },
  {
   "cell_type": "code",
   "execution_count": 19,
   "metadata": {
    "tags": []
   },
   "outputs": [],
   "source": [
    "# CROP DATA\n",
    "df1 <- dbExecute(conn, \n",
    "                    \"CREATE TABLE CROP_DATA (\n",
    "                                      CD_ID INTEGER NOT NULL,\n",
    "                                      YEAR DATE NOT NULL,\n",
    "                                      CROP_TYPE VARCHAR(20) NOT NULL,\n",
    "                                      GEO VARCHAR(20) NOT NULL, \n",
    "                                      SEEDED_AREA INTEGER NOT NULL,\n",
    "                                      HARVESTED_AREA INTEGER NOT NULL,\n",
    "                                      PRODUCTION INTEGER NOT NULL,\n",
    "                                      AVG_YIELD INTEGER NOT NULL,\n",
    "                                      PRIMARY KEY (CD_ID)\n",
    "                                      )\", \n",
    "                    errors=FALSE\n",
    "                    )"
   ]
  },
  {
   "cell_type": "code",
   "execution_count": 20,
   "metadata": {
    "tags": []
   },
   "outputs": [],
   "source": [
    "# FARM Prices\n",
    "df2 <- dbExecute(conn, \n",
    "                    \"CREATE TABLE FARM_PRICES (\n",
    "                                      CD_ID INTEGER NOT NULL,\n",
    "                                      YEAR DATE NOT NULL,\n",
    "                                      CROP_TYPE VARCHAR(20) NOT NULL,\n",
    "                                      GEO VARCHAR(20) NOT NULL,\n",
    "                                    PRICE_PRERMT FLOAT(6) NOT NULL,\n",
    "PRIMARY KEY (CD_ID)\n",
    ")\",\n",
    "                 errors = FALSE)"
   ]
  },
  {
   "cell_type": "code",
   "execution_count": 21,
   "metadata": {
    "tags": []
   },
   "outputs": [],
   "source": [
    "df3 <- dbExecute(conn, \n",
    "                 \"CREATE TABLE DAILY_FX (\n",
    "DFX_ID INTEGER NOT NULL,\n",
    "YEAR DATE NOT NULL,\n",
    "FXUSDCAD FLOAT(6) NOT NULL,\n",
    "PRIMARY KEY (DFX_ID)\n",
    ")\",\n",
    "                 errors = FALSE)"
   ]
  },
  {
   "cell_type": "code",
   "execution_count": 22,
   "metadata": {
    "tags": []
   },
   "outputs": [],
   "source": [
    "df4 <- dbExecute(conn, \n",
    "                 \"CREATE TABLE MONTHLY_FX (\n",
    "DFX_ID INTEGER NOT NULL,\n",
    "YEAR DATE NOT NULL,\n",
    "FXUSDCAD FLOAT(8) NOT NULL,\n",
    "PRIMARY KEY (DFX_ID)\n",
    ")\",\n",
    "                 errors = FALSE)"
   ]
  },
  {
   "cell_type": "code",
   "execution_count": 23,
   "metadata": {
    "tags": []
   },
   "outputs": [
    {
     "name": "stdout",
     "output_type": "stream",
     "text": [
      "ALL tables were created successfully.\n"
     ]
    }
   ],
   "source": [
    "if (df4 == -1 | df3 == -1 | df2 == -1 | df1 == -1){\n",
    "        cat (\"An error has occurred.\\n\")\n",
    "        msg <- odbcGetErrMsg(conn)\n",
    "        print (msg)\n",
    "    } else {\n",
    "        cat (\"ALL tables were created successfully.\\n\")\n",
    "    } "
   ]
  },
  {
   "cell_type": "code",
   "execution_count": 17,
   "metadata": {
    "tags": []
   },
   "outputs": [
    {
     "data": {
      "text/html": [
       "<style>\n",
       ".list-inline {list-style: none; margin:0; padding: 0}\n",
       ".list-inline>li {display: inline-block}\n",
       ".list-inline>li:not(:last-child)::after {content: \"\\00b7\"; padding: 0 .5ex}\n",
       "</style>\n",
       "<ol class=list-inline><li>'CROP_DATA'</li><li>'DAILY_FX'</li><li>'FARM_PRICES'</li><li>'MONTHLY_FX'</li></ol>\n"
      ],
      "text/latex": [
       "\\begin{enumerate*}\n",
       "\\item 'CROP\\_DATA'\n",
       "\\item 'DAILY\\_FX'\n",
       "\\item 'FARM\\_PRICES'\n",
       "\\item 'MONTHLY\\_FX'\n",
       "\\end{enumerate*}\n"
      ],
      "text/markdown": [
       "1. 'CROP_DATA'\n",
       "2. 'DAILY_FX'\n",
       "3. 'FARM_PRICES'\n",
       "4. 'MONTHLY_FX'\n",
       "\n",
       "\n"
      ],
      "text/plain": [
       "[1] \"CROP_DATA\"   \"DAILY_FX\"    \"FARM_PRICES\" \"MONTHLY_FX\" "
      ]
     },
     "metadata": {},
     "output_type": "display_data"
    }
   ],
   "source": [
    "#check list of tables in the present db.\n",
    "dbListTables(conn)"
   ]
  },
  {
   "cell_type": "markdown",
   "metadata": {},
   "source": [
    "## Problem 2\n",
    "\n",
    "#### Read Datasets and load your tables in database\n",
    "\n",
    "Read the datasets into R dataframes using the urls provided above. Then load your tables in database.\n"
   ]
  },
  {
   "cell_type": "code",
   "execution_count": 4,
   "metadata": {
    "tags": []
   },
   "outputs": [
    {
     "data": {
      "text/html": [
       "<table>\n",
       "<caption>A data.frame: 6 × 8</caption>\n",
       "<thead>\n",
       "\t<tr><th></th><th scope=col>CD_ID</th><th scope=col>YEAR</th><th scope=col>CROP_TYPE</th><th scope=col>GEO</th><th scope=col>SEEDED_AREA</th><th scope=col>HARVESTED_AREA</th><th scope=col>PRODUCTION</th><th scope=col>AVG_YIELD</th></tr>\n",
       "\t<tr><th></th><th scope=col>&lt;int&gt;</th><th scope=col>&lt;fct&gt;</th><th scope=col>&lt;fct&gt;</th><th scope=col>&lt;fct&gt;</th><th scope=col>&lt;int&gt;</th><th scope=col>&lt;int&gt;</th><th scope=col>&lt;int&gt;</th><th scope=col>&lt;int&gt;</th></tr>\n",
       "</thead>\n",
       "<tbody>\n",
       "\t<tr><th scope=row>1</th><td>0</td><td>1965-12-31</td><td>Barley</td><td>Alberta     </td><td>1372000</td><td>1372000</td><td>2504000</td><td>1825</td></tr>\n",
       "\t<tr><th scope=row>2</th><td>1</td><td>1965-12-31</td><td>Barley</td><td>Canada      </td><td>2476800</td><td>2476800</td><td>4752900</td><td>1920</td></tr>\n",
       "\t<tr><th scope=row>3</th><td>2</td><td>1965-12-31</td><td>Barley</td><td>Saskatchewan</td><td> 708000</td><td> 708000</td><td>1415000</td><td>2000</td></tr>\n",
       "\t<tr><th scope=row>4</th><td>3</td><td>1965-12-31</td><td>Canola</td><td>Alberta     </td><td> 297400</td><td> 297400</td><td> 215500</td><td> 725</td></tr>\n",
       "\t<tr><th scope=row>5</th><td>4</td><td>1965-12-31</td><td>Canola</td><td>Canada      </td><td> 580700</td><td> 580700</td><td> 512600</td><td> 885</td></tr>\n",
       "\t<tr><th scope=row>6</th><td>5</td><td>1965-12-31</td><td>Canola</td><td>Saskatchewan</td><td> 224600</td><td> 224600</td><td> 242700</td><td>1080</td></tr>\n",
       "</tbody>\n",
       "</table>\n"
      ],
      "text/latex": [
       "A data.frame: 6 × 8\n",
       "\\begin{tabular}{r|llllllll}\n",
       "  & CD\\_ID & YEAR & CROP\\_TYPE & GEO & SEEDED\\_AREA & HARVESTED\\_AREA & PRODUCTION & AVG\\_YIELD\\\\\n",
       "  & <int> & <fct> & <fct> & <fct> & <int> & <int> & <int> & <int>\\\\\n",
       "\\hline\n",
       "\t1 & 0 & 1965-12-31 & Barley & Alberta      & 1372000 & 1372000 & 2504000 & 1825\\\\\n",
       "\t2 & 1 & 1965-12-31 & Barley & Canada       & 2476800 & 2476800 & 4752900 & 1920\\\\\n",
       "\t3 & 2 & 1965-12-31 & Barley & Saskatchewan &  708000 &  708000 & 1415000 & 2000\\\\\n",
       "\t4 & 3 & 1965-12-31 & Canola & Alberta      &  297400 &  297400 &  215500 &  725\\\\\n",
       "\t5 & 4 & 1965-12-31 & Canola & Canada       &  580700 &  580700 &  512600 &  885\\\\\n",
       "\t6 & 5 & 1965-12-31 & Canola & Saskatchewan &  224600 &  224600 &  242700 & 1080\\\\\n",
       "\\end{tabular}\n"
      ],
      "text/markdown": [
       "\n",
       "A data.frame: 6 × 8\n",
       "\n",
       "| <!--/--> | CD_ID &lt;int&gt; | YEAR &lt;fct&gt; | CROP_TYPE &lt;fct&gt; | GEO &lt;fct&gt; | SEEDED_AREA &lt;int&gt; | HARVESTED_AREA &lt;int&gt; | PRODUCTION &lt;int&gt; | AVG_YIELD &lt;int&gt; |\n",
       "|---|---|---|---|---|---|---|---|---|\n",
       "| 1 | 0 | 1965-12-31 | Barley | Alberta      | 1372000 | 1372000 | 2504000 | 1825 |\n",
       "| 2 | 1 | 1965-12-31 | Barley | Canada       | 2476800 | 2476800 | 4752900 | 1920 |\n",
       "| 3 | 2 | 1965-12-31 | Barley | Saskatchewan |  708000 |  708000 | 1415000 | 2000 |\n",
       "| 4 | 3 | 1965-12-31 | Canola | Alberta      |  297400 |  297400 |  215500 |  725 |\n",
       "| 5 | 4 | 1965-12-31 | Canola | Canada       |  580700 |  580700 |  512600 |  885 |\n",
       "| 6 | 5 | 1965-12-31 | Canola | Saskatchewan |  224600 |  224600 |  242700 | 1080 |\n",
       "\n"
      ],
      "text/plain": [
       "  CD_ID YEAR       CROP_TYPE GEO          SEEDED_AREA HARVESTED_AREA PRODUCTION\n",
       "1 0     1965-12-31 Barley    Alberta      1372000     1372000        2504000   \n",
       "2 1     1965-12-31 Barley    Canada       2476800     2476800        4752900   \n",
       "3 2     1965-12-31 Barley    Saskatchewan  708000      708000        1415000   \n",
       "4 3     1965-12-31 Canola    Alberta       297400      297400         215500   \n",
       "5 4     1965-12-31 Canola    Canada        580700      580700         512600   \n",
       "6 5     1965-12-31 Canola    Saskatchewan  224600      224600         242700   \n",
       "  AVG_YIELD\n",
       "1 1825     \n",
       "2 1920     \n",
       "3 2000     \n",
       "4  725     \n",
       "5  885     \n",
       "6 1080     "
      ]
     },
     "metadata": {},
     "output_type": "display_data"
    },
    {
     "data": {
      "text/html": [
       "<table>\n",
       "<caption>A data.frame: 6 × 5</caption>\n",
       "<thead>\n",
       "\t<tr><th></th><th scope=col>CD_ID</th><th scope=col>DATE</th><th scope=col>CROP_TYPE</th><th scope=col>GEO</th><th scope=col>PRICE_PRERMT</th></tr>\n",
       "\t<tr><th></th><th scope=col>&lt;int&gt;</th><th scope=col>&lt;fct&gt;</th><th scope=col>&lt;fct&gt;</th><th scope=col>&lt;fct&gt;</th><th scope=col>&lt;dbl&gt;</th></tr>\n",
       "</thead>\n",
       "<tbody>\n",
       "\t<tr><th scope=row>1</th><td>0</td><td>1985-01-01</td><td>Barley</td><td>Alberta     </td><td>127.39</td></tr>\n",
       "\t<tr><th scope=row>2</th><td>1</td><td>1985-01-01</td><td>Barley</td><td>Saskatchewan</td><td>121.38</td></tr>\n",
       "\t<tr><th scope=row>3</th><td>2</td><td>1985-01-01</td><td>Canola</td><td>Alberta     </td><td>342.00</td></tr>\n",
       "\t<tr><th scope=row>4</th><td>3</td><td>1985-01-01</td><td>Canola</td><td>Saskatchewan</td><td>339.82</td></tr>\n",
       "\t<tr><th scope=row>5</th><td>4</td><td>1985-01-01</td><td>Rye   </td><td>Alberta     </td><td>100.77</td></tr>\n",
       "\t<tr><th scope=row>6</th><td>5</td><td>1985-01-01</td><td>Rye   </td><td>Saskatchewan</td><td>109.75</td></tr>\n",
       "</tbody>\n",
       "</table>\n"
      ],
      "text/latex": [
       "A data.frame: 6 × 5\n",
       "\\begin{tabular}{r|lllll}\n",
       "  & CD\\_ID & DATE & CROP\\_TYPE & GEO & PRICE\\_PRERMT\\\\\n",
       "  & <int> & <fct> & <fct> & <fct> & <dbl>\\\\\n",
       "\\hline\n",
       "\t1 & 0 & 1985-01-01 & Barley & Alberta      & 127.39\\\\\n",
       "\t2 & 1 & 1985-01-01 & Barley & Saskatchewan & 121.38\\\\\n",
       "\t3 & 2 & 1985-01-01 & Canola & Alberta      & 342.00\\\\\n",
       "\t4 & 3 & 1985-01-01 & Canola & Saskatchewan & 339.82\\\\\n",
       "\t5 & 4 & 1985-01-01 & Rye    & Alberta      & 100.77\\\\\n",
       "\t6 & 5 & 1985-01-01 & Rye    & Saskatchewan & 109.75\\\\\n",
       "\\end{tabular}\n"
      ],
      "text/markdown": [
       "\n",
       "A data.frame: 6 × 5\n",
       "\n",
       "| <!--/--> | CD_ID &lt;int&gt; | DATE &lt;fct&gt; | CROP_TYPE &lt;fct&gt; | GEO &lt;fct&gt; | PRICE_PRERMT &lt;dbl&gt; |\n",
       "|---|---|---|---|---|---|\n",
       "| 1 | 0 | 1985-01-01 | Barley | Alberta      | 127.39 |\n",
       "| 2 | 1 | 1985-01-01 | Barley | Saskatchewan | 121.38 |\n",
       "| 3 | 2 | 1985-01-01 | Canola | Alberta      | 342.00 |\n",
       "| 4 | 3 | 1985-01-01 | Canola | Saskatchewan | 339.82 |\n",
       "| 5 | 4 | 1985-01-01 | Rye    | Alberta      | 100.77 |\n",
       "| 6 | 5 | 1985-01-01 | Rye    | Saskatchewan | 109.75 |\n",
       "\n"
      ],
      "text/plain": [
       "  CD_ID DATE       CROP_TYPE GEO          PRICE_PRERMT\n",
       "1 0     1985-01-01 Barley    Alberta      127.39      \n",
       "2 1     1985-01-01 Barley    Saskatchewan 121.38      \n",
       "3 2     1985-01-01 Canola    Alberta      342.00      \n",
       "4 3     1985-01-01 Canola    Saskatchewan 339.82      \n",
       "5 4     1985-01-01 Rye       Alberta      100.77      \n",
       "6 5     1985-01-01 Rye       Saskatchewan 109.75      "
      ]
     },
     "metadata": {},
     "output_type": "display_data"
    },
    {
     "data": {
      "text/html": [
       "<table>\n",
       "<caption>A data.frame: 6 × 3</caption>\n",
       "<thead>\n",
       "\t<tr><th></th><th scope=col>DFX_ID</th><th scope=col>DATE</th><th scope=col>FXUSDCAD</th></tr>\n",
       "\t<tr><th></th><th scope=col>&lt;int&gt;</th><th scope=col>&lt;fct&gt;</th><th scope=col>&lt;dbl&gt;</th></tr>\n",
       "</thead>\n",
       "<tbody>\n",
       "\t<tr><th scope=row>1</th><td>0</td><td>2017-01-03</td><td>1.3435</td></tr>\n",
       "\t<tr><th scope=row>2</th><td>1</td><td>2017-01-04</td><td>1.3315</td></tr>\n",
       "\t<tr><th scope=row>3</th><td>2</td><td>2017-01-05</td><td>1.3244</td></tr>\n",
       "\t<tr><th scope=row>4</th><td>3</td><td>2017-01-06</td><td>1.3214</td></tr>\n",
       "\t<tr><th scope=row>5</th><td>4</td><td>2017-01-09</td><td>1.3240</td></tr>\n",
       "\t<tr><th scope=row>6</th><td>5</td><td>2017-01-10</td><td>1.3213</td></tr>\n",
       "</tbody>\n",
       "</table>\n"
      ],
      "text/latex": [
       "A data.frame: 6 × 3\n",
       "\\begin{tabular}{r|lll}\n",
       "  & DFX\\_ID & DATE & FXUSDCAD\\\\\n",
       "  & <int> & <fct> & <dbl>\\\\\n",
       "\\hline\n",
       "\t1 & 0 & 2017-01-03 & 1.3435\\\\\n",
       "\t2 & 1 & 2017-01-04 & 1.3315\\\\\n",
       "\t3 & 2 & 2017-01-05 & 1.3244\\\\\n",
       "\t4 & 3 & 2017-01-06 & 1.3214\\\\\n",
       "\t5 & 4 & 2017-01-09 & 1.3240\\\\\n",
       "\t6 & 5 & 2017-01-10 & 1.3213\\\\\n",
       "\\end{tabular}\n"
      ],
      "text/markdown": [
       "\n",
       "A data.frame: 6 × 3\n",
       "\n",
       "| <!--/--> | DFX_ID &lt;int&gt; | DATE &lt;fct&gt; | FXUSDCAD &lt;dbl&gt; |\n",
       "|---|---|---|---|\n",
       "| 1 | 0 | 2017-01-03 | 1.3435 |\n",
       "| 2 | 1 | 2017-01-04 | 1.3315 |\n",
       "| 3 | 2 | 2017-01-05 | 1.3244 |\n",
       "| 4 | 3 | 2017-01-06 | 1.3214 |\n",
       "| 5 | 4 | 2017-01-09 | 1.3240 |\n",
       "| 6 | 5 | 2017-01-10 | 1.3213 |\n",
       "\n"
      ],
      "text/plain": [
       "  DFX_ID DATE       FXUSDCAD\n",
       "1 0      2017-01-03 1.3435  \n",
       "2 1      2017-01-04 1.3315  \n",
       "3 2      2017-01-05 1.3244  \n",
       "4 3      2017-01-06 1.3214  \n",
       "5 4      2017-01-09 1.3240  \n",
       "6 5      2017-01-10 1.3213  "
      ]
     },
     "metadata": {},
     "output_type": "display_data"
    },
    {
     "data": {
      "text/html": [
       "<table>\n",
       "<caption>A data.frame: 6 × 3</caption>\n",
       "<thead>\n",
       "\t<tr><th></th><th scope=col>DFX_ID</th><th scope=col>DATE</th><th scope=col>FXUSDCAD</th></tr>\n",
       "\t<tr><th></th><th scope=col>&lt;int&gt;</th><th scope=col>&lt;fct&gt;</th><th scope=col>&lt;dbl&gt;</th></tr>\n",
       "</thead>\n",
       "<tbody>\n",
       "\t<tr><th scope=row>1</th><td>0</td><td>2017-01-01</td><td>1.319276</td></tr>\n",
       "\t<tr><th scope=row>2</th><td>1</td><td>2017-02-01</td><td>1.310726</td></tr>\n",
       "\t<tr><th scope=row>3</th><td>2</td><td>2017-03-01</td><td>1.338643</td></tr>\n",
       "\t<tr><th scope=row>4</th><td>3</td><td>2017-04-01</td><td>1.344021</td></tr>\n",
       "\t<tr><th scope=row>5</th><td>4</td><td>2017-05-01</td><td>1.360705</td></tr>\n",
       "\t<tr><th scope=row>6</th><td>5</td><td>2017-06-01</td><td>1.329805</td></tr>\n",
       "</tbody>\n",
       "</table>\n"
      ],
      "text/latex": [
       "A data.frame: 6 × 3\n",
       "\\begin{tabular}{r|lll}\n",
       "  & DFX\\_ID & DATE & FXUSDCAD\\\\\n",
       "  & <int> & <fct> & <dbl>\\\\\n",
       "\\hline\n",
       "\t1 & 0 & 2017-01-01 & 1.319276\\\\\n",
       "\t2 & 1 & 2017-02-01 & 1.310726\\\\\n",
       "\t3 & 2 & 2017-03-01 & 1.338643\\\\\n",
       "\t4 & 3 & 2017-04-01 & 1.344021\\\\\n",
       "\t5 & 4 & 2017-05-01 & 1.360705\\\\\n",
       "\t6 & 5 & 2017-06-01 & 1.329805\\\\\n",
       "\\end{tabular}\n"
      ],
      "text/markdown": [
       "\n",
       "A data.frame: 6 × 3\n",
       "\n",
       "| <!--/--> | DFX_ID &lt;int&gt; | DATE &lt;fct&gt; | FXUSDCAD &lt;dbl&gt; |\n",
       "|---|---|---|---|\n",
       "| 1 | 0 | 2017-01-01 | 1.319276 |\n",
       "| 2 | 1 | 2017-02-01 | 1.310726 |\n",
       "| 3 | 2 | 2017-03-01 | 1.338643 |\n",
       "| 4 | 3 | 2017-04-01 | 1.344021 |\n",
       "| 5 | 4 | 2017-05-01 | 1.360705 |\n",
       "| 6 | 5 | 2017-06-01 | 1.329805 |\n",
       "\n"
      ],
      "text/plain": [
       "  DFX_ID DATE       FXUSDCAD\n",
       "1 0      2017-01-01 1.319276\n",
       "2 1      2017-02-01 1.310726\n",
       "3 2      2017-03-01 1.338643\n",
       "4 3      2017-04-01 1.344021\n",
       "5 4      2017-05-01 1.360705\n",
       "6 5      2017-06-01 1.329805"
      ]
     },
     "metadata": {},
     "output_type": "display_data"
    }
   ],
   "source": [
    "crop_df <- read.csv(\"https://cf-courses-data.s3.us.cloud-object-storage.appdomain.cloud/IBM-RP0203EN-SkillsNetwork/labs/Final%20Project/Annual_Crop_Data.csv\")\n",
    "farm_df <- read.csv(\"https://cf-courses-data.s3.us.cloud-object-storage.appdomain.cloud/IBM-RP0203EN-SkillsNetwork/labs/Final%20Project/Monthly_Farm_Prices.csv\")\n",
    "daily_df <- read.csv(\"https://cf-courses-data.s3.us.cloud-object-storage.appdomain.cloud/IBM-RP0203EN-SkillsNetwork/labs/Final%20Project/Daily_FX.csv\")\n",
    "monthly_df <- read.csv(\"https://cf-courses-data.s3.us.cloud-object-storage.appdomain.cloud/IBM-RP0203EN-SkillsNetwork/labs/Final%20Project/Monthly_FX.csv\")\n",
    "head(crop_df)\n",
    "head(farm_df)\n",
    "head(daily_df)\n",
    "head(monthly_df)\n",
    "dbWriteTable(conn, \"CROP_DATA\", crop_df, overwrite=TRUE, header = TRUE)\n",
    "dbWriteTable(conn, \"FARM_PRICES\", farm_df, overwrite=TRUE, header = TRUE)\n",
    "dbWriteTable(conn, \"DAILY_FX\", daily_df, overwrite=TRUE, header = TRUE)\n",
    "dbWriteTable(conn, \"MONTHLY_FX\", monthly_df, overwrite=TRUE, header = TRUE)"
   ]
  },
  {
   "cell_type": "code",
   "execution_count": 5,
   "metadata": {
    "tags": []
   },
   "outputs": [],
   "source": [
    "dbWriteTable(conn, \"CROP_DATA\", crop_df, overwrite=TRUE, header = TRUE)\n",
    "dbWriteTable(conn, \"FARM_PRICES\", farm_df, overwrite=TRUE, header = TRUE)\n",
    "dbWriteTable(conn, \"DAILY_FX\", daily_df, overwrite=TRUE, header = TRUE)\n",
    "dbWriteTable(conn, \"MONTHLY_FX\", monthly_df, overwrite=TRUE, header = TRUE)"
   ]
  },
  {
   "cell_type": "markdown",
   "metadata": {},
   "source": [
    "## Now execute SQL queries using the RSQLite R package to solve the assignment problems.\n",
    "\n",
    "## Problem 3\n",
    "\n",
    "#### How many records are in the farm prices dataset?\n"
   ]
  },
  {
   "cell_type": "code",
   "execution_count": 27,
   "metadata": {
    "tags": []
   },
   "outputs": [
    {
     "data": {
      "text/html": [
       "<table>\n",
       "<caption>A data.frame: 1 × 1</caption>\n",
       "<thead>\n",
       "\t<tr><th scope=col>COUNT(CD_ID)</th></tr>\n",
       "\t<tr><th scope=col>&lt;int&gt;</th></tr>\n",
       "</thead>\n",
       "<tbody>\n",
       "\t<tr><td>2678</td></tr>\n",
       "</tbody>\n",
       "</table>\n"
      ],
      "text/latex": [
       "A data.frame: 1 × 1\n",
       "\\begin{tabular}{l}\n",
       " COUNT(CD\\_ID)\\\\\n",
       " <int>\\\\\n",
       "\\hline\n",
       "\t 2678\\\\\n",
       "\\end{tabular}\n"
      ],
      "text/markdown": [
       "\n",
       "A data.frame: 1 × 1\n",
       "\n",
       "| COUNT(CD_ID) &lt;int&gt; |\n",
       "|---|\n",
       "| 2678 |\n",
       "\n"
      ],
      "text/plain": [
       "  COUNT(CD_ID)\n",
       "1 2678        "
      ]
     },
     "metadata": {},
     "output_type": "display_data"
    }
   ],
   "source": [
    "dbGetQuery(conn, 'SELECT COUNT(CD_ID) FROM FARM_PRICES') #2678 RECORDS"
   ]
  },
  {
   "cell_type": "markdown",
   "metadata": {},
   "source": [
    "## Problem 4\n",
    "\n",
    "#### Which geographies are included in the farm prices dataset?\n"
   ]
  },
  {
   "cell_type": "code",
   "execution_count": 28,
   "metadata": {
    "tags": []
   },
   "outputs": [
    {
     "data": {
      "text/html": [
       "<table>\n",
       "<caption>A data.frame: 2 × 1</caption>\n",
       "<thead>\n",
       "\t<tr><th scope=col>GEO</th></tr>\n",
       "\t<tr><th scope=col>&lt;chr&gt;</th></tr>\n",
       "</thead>\n",
       "<tbody>\n",
       "\t<tr><td>Alberta     </td></tr>\n",
       "\t<tr><td>Saskatchewan</td></tr>\n",
       "</tbody>\n",
       "</table>\n"
      ],
      "text/latex": [
       "A data.frame: 2 × 1\n",
       "\\begin{tabular}{l}\n",
       " GEO\\\\\n",
       " <chr>\\\\\n",
       "\\hline\n",
       "\t Alberta     \\\\\n",
       "\t Saskatchewan\\\\\n",
       "\\end{tabular}\n"
      ],
      "text/markdown": [
       "\n",
       "A data.frame: 2 × 1\n",
       "\n",
       "| GEO &lt;chr&gt; |\n",
       "|---|\n",
       "| Alberta      |\n",
       "| Saskatchewan |\n",
       "\n"
      ],
      "text/plain": [
       "  GEO         \n",
       "1 Alberta     \n",
       "2 Saskatchewan"
      ]
     },
     "metadata": {},
     "output_type": "display_data"
    }
   ],
   "source": [
    "dbGetQuery(conn, 'SELECT DISTINCT(GEO) FROM FARM_PRICES') #alberta and sakathchewan"
   ]
  },
  {
   "cell_type": "markdown",
   "metadata": {},
   "source": [
    "## Problem 5\n",
    "\n",
    "#### How many hectares of Rye were harvested in Canada in 1968?\n"
   ]
  },
  {
   "cell_type": "code",
   "execution_count": 40,
   "metadata": {
    "tags": []
   },
   "outputs": [
    {
     "data": {
      "text/html": [
       "<table>\n",
       "<caption>A data.frame: 1 × 1</caption>\n",
       "<thead>\n",
       "\t<tr><th scope=col>TOTAL_RYE_1968</th></tr>\n",
       "\t<tr><th scope=col>&lt;int&gt;</th></tr>\n",
       "</thead>\n",
       "<tbody>\n",
       "\t<tr><td>476100</td></tr>\n",
       "</tbody>\n",
       "</table>\n"
      ],
      "text/latex": [
       "A data.frame: 1 × 1\n",
       "\\begin{tabular}{l}\n",
       " TOTAL\\_RYE\\_1968\\\\\n",
       " <int>\\\\\n",
       "\\hline\n",
       "\t 476100\\\\\n",
       "\\end{tabular}\n"
      ],
      "text/markdown": [
       "\n",
       "A data.frame: 1 × 1\n",
       "\n",
       "| TOTAL_RYE_1968 &lt;int&gt; |\n",
       "|---|\n",
       "| 476100 |\n",
       "\n"
      ],
      "text/plain": [
       "  TOTAL_RYE_1968\n",
       "1 476100        "
      ]
     },
     "metadata": {},
     "output_type": "display_data"
    }
   ],
   "source": [
    "dbGetQuery(conn, \"SELECT SUM(HARVESTED_AREA) AS TOTAL_RYE_1968 FROM CROP_DATA\n",
    "WHERE CROP_TYPE = 'Rye' AND strftime('%Y',YEAR) = '1968'\")"
   ]
  },
  {
   "cell_type": "markdown",
   "metadata": {},
   "source": [
    "## Problem 6\n",
    "\n",
    "#### Query and display the first 6 rows of the farm prices table for Rye.\n"
   ]
  },
  {
   "cell_type": "code",
   "execution_count": 6,
   "metadata": {
    "tags": []
   },
   "outputs": [
    {
     "data": {
      "text/html": [
       "<table>\n",
       "<caption>A data.frame: 6 × 8</caption>\n",
       "<thead>\n",
       "\t<tr><th scope=col>CD_ID</th><th scope=col>YEAR</th><th scope=col>CROP_TYPE</th><th scope=col>GEO</th><th scope=col>SEEDED_AREA</th><th scope=col>HARVESTED_AREA</th><th scope=col>PRODUCTION</th><th scope=col>AVG_YIELD</th></tr>\n",
       "\t<tr><th scope=col>&lt;int&gt;</th><th scope=col>&lt;chr&gt;</th><th scope=col>&lt;chr&gt;</th><th scope=col>&lt;chr&gt;</th><th scope=col>&lt;int&gt;</th><th scope=col>&lt;int&gt;</th><th scope=col>&lt;int&gt;</th><th scope=col>&lt;int&gt;</th></tr>\n",
       "</thead>\n",
       "<tbody>\n",
       "\t<tr><td> 6</td><td>1965-12-31</td><td>Rye</td><td>Alberta     </td><td> 81000</td><td> 81000</td><td>116400</td><td>1435</td></tr>\n",
       "\t<tr><td> 7</td><td>1965-12-31</td><td>Rye</td><td>Canada      </td><td>323900</td><td>323900</td><td>453400</td><td>1400</td></tr>\n",
       "\t<tr><td> 8</td><td>1965-12-31</td><td>Rye</td><td>Saskatchewan</td><td>166000</td><td>166000</td><td>224000</td><td>1350</td></tr>\n",
       "\t<tr><td>18</td><td>1966-12-31</td><td>Rye</td><td>Alberta     </td><td> 70000</td><td> 70000</td><td>109000</td><td>1555</td></tr>\n",
       "\t<tr><td>19</td><td>1966-12-31</td><td>Rye</td><td>Canada      </td><td>293400</td><td>293400</td><td>437600</td><td>1490</td></tr>\n",
       "\t<tr><td>20</td><td>1966-12-31</td><td>Rye</td><td>Saskatchewan</td><td>161000</td><td>161000</td><td>228600</td><td>1420</td></tr>\n",
       "</tbody>\n",
       "</table>\n"
      ],
      "text/latex": [
       "A data.frame: 6 × 8\n",
       "\\begin{tabular}{llllllll}\n",
       " CD\\_ID & YEAR & CROP\\_TYPE & GEO & SEEDED\\_AREA & HARVESTED\\_AREA & PRODUCTION & AVG\\_YIELD\\\\\n",
       " <int> & <chr> & <chr> & <chr> & <int> & <int> & <int> & <int>\\\\\n",
       "\\hline\n",
       "\t  6 & 1965-12-31 & Rye & Alberta      &  81000 &  81000 & 116400 & 1435\\\\\n",
       "\t  7 & 1965-12-31 & Rye & Canada       & 323900 & 323900 & 453400 & 1400\\\\\n",
       "\t  8 & 1965-12-31 & Rye & Saskatchewan & 166000 & 166000 & 224000 & 1350\\\\\n",
       "\t 18 & 1966-12-31 & Rye & Alberta      &  70000 &  70000 & 109000 & 1555\\\\\n",
       "\t 19 & 1966-12-31 & Rye & Canada       & 293400 & 293400 & 437600 & 1490\\\\\n",
       "\t 20 & 1966-12-31 & Rye & Saskatchewan & 161000 & 161000 & 228600 & 1420\\\\\n",
       "\\end{tabular}\n"
      ],
      "text/markdown": [
       "\n",
       "A data.frame: 6 × 8\n",
       "\n",
       "| CD_ID &lt;int&gt; | YEAR &lt;chr&gt; | CROP_TYPE &lt;chr&gt; | GEO &lt;chr&gt; | SEEDED_AREA &lt;int&gt; | HARVESTED_AREA &lt;int&gt; | PRODUCTION &lt;int&gt; | AVG_YIELD &lt;int&gt; |\n",
       "|---|---|---|---|---|---|---|---|\n",
       "|  6 | 1965-12-31 | Rye | Alberta      |  81000 |  81000 | 116400 | 1435 |\n",
       "|  7 | 1965-12-31 | Rye | Canada       | 323900 | 323900 | 453400 | 1400 |\n",
       "|  8 | 1965-12-31 | Rye | Saskatchewan | 166000 | 166000 | 224000 | 1350 |\n",
       "| 18 | 1966-12-31 | Rye | Alberta      |  70000 |  70000 | 109000 | 1555 |\n",
       "| 19 | 1966-12-31 | Rye | Canada       | 293400 | 293400 | 437600 | 1490 |\n",
       "| 20 | 1966-12-31 | Rye | Saskatchewan | 161000 | 161000 | 228600 | 1420 |\n",
       "\n"
      ],
      "text/plain": [
       "  CD_ID YEAR       CROP_TYPE GEO          SEEDED_AREA HARVESTED_AREA PRODUCTION\n",
       "1  6    1965-12-31 Rye       Alberta       81000       81000         116400    \n",
       "2  7    1965-12-31 Rye       Canada       323900      323900         453400    \n",
       "3  8    1965-12-31 Rye       Saskatchewan 166000      166000         224000    \n",
       "4 18    1966-12-31 Rye       Alberta       70000       70000         109000    \n",
       "5 19    1966-12-31 Rye       Canada       293400      293400         437600    \n",
       "6 20    1966-12-31 Rye       Saskatchewan 161000      161000         228600    \n",
       "  AVG_YIELD\n",
       "1 1435     \n",
       "2 1400     \n",
       "3 1350     \n",
       "4 1555     \n",
       "5 1490     \n",
       "6 1420     "
      ]
     },
     "metadata": {},
     "output_type": "display_data"
    }
   ],
   "source": [
    "dbGetQuery(conn, 'SELECT * FROM CROP_DATA \n",
    "WHERE CROP_TYPE=\"Rye\" LIMIT 6')"
   ]
  },
  {
   "cell_type": "markdown",
   "metadata": {},
   "source": [
    "## Problem 7\n",
    "\n",
    "#### Which provinces grew Barley?\n"
   ]
  },
  {
   "cell_type": "code",
   "execution_count": 48,
   "metadata": {
    "tags": []
   },
   "outputs": [
    {
     "data": {
      "text/html": [
       "<table>\n",
       "<caption>A data.frame: 2 × 1</caption>\n",
       "<thead>\n",
       "\t<tr><th scope=col>GEO</th></tr>\n",
       "\t<tr><th scope=col>&lt;chr&gt;</th></tr>\n",
       "</thead>\n",
       "<tbody>\n",
       "\t<tr><td>Alberta     </td></tr>\n",
       "\t<tr><td>Saskatchewan</td></tr>\n",
       "</tbody>\n",
       "</table>\n"
      ],
      "text/latex": [
       "A data.frame: 2 × 1\n",
       "\\begin{tabular}{l}\n",
       " GEO\\\\\n",
       " <chr>\\\\\n",
       "\\hline\n",
       "\t Alberta     \\\\\n",
       "\t Saskatchewan\\\\\n",
       "\\end{tabular}\n"
      ],
      "text/markdown": [
       "\n",
       "A data.frame: 2 × 1\n",
       "\n",
       "| GEO &lt;chr&gt; |\n",
       "|---|\n",
       "| Alberta      |\n",
       "| Saskatchewan |\n",
       "\n"
      ],
      "text/plain": [
       "  GEO         \n",
       "1 Alberta     \n",
       "2 Saskatchewan"
      ]
     },
     "metadata": {},
     "output_type": "display_data"
    }
   ],
   "source": [
    "dbGetQuery(conn, \"SELECT DISTINCT(GEO) FROM CROP_DATA \n",
    "WHERE CROP_TYPE = 'Barley' AND GEO != 'Canada'\")"
   ]
  },
  {
   "cell_type": "markdown",
   "metadata": {},
   "source": [
    "## Problem 8\n",
    "\n",
    "#### Find the first and last dates for the farm prices data.\n"
   ]
  },
  {
   "cell_type": "code",
   "execution_count": 50,
   "metadata": {
    "tags": []
   },
   "outputs": [
    {
     "data": {
      "text/html": [
       "<table>\n",
       "<caption>A data.frame: 1 × 2</caption>\n",
       "<thead>\n",
       "\t<tr><th scope=col>FIRST_DATE</th><th scope=col>LAST_DATE</th></tr>\n",
       "\t<tr><th scope=col>&lt;chr&gt;</th><th scope=col>&lt;chr&gt;</th></tr>\n",
       "</thead>\n",
       "<tbody>\n",
       "\t<tr><td>1985-01-01</td><td>2020-12-01</td></tr>\n",
       "</tbody>\n",
       "</table>\n"
      ],
      "text/latex": [
       "A data.frame: 1 × 2\n",
       "\\begin{tabular}{ll}\n",
       " FIRST\\_DATE & LAST\\_DATE\\\\\n",
       " <chr> & <chr>\\\\\n",
       "\\hline\n",
       "\t 1985-01-01 & 2020-12-01\\\\\n",
       "\\end{tabular}\n"
      ],
      "text/markdown": [
       "\n",
       "A data.frame: 1 × 2\n",
       "\n",
       "| FIRST_DATE &lt;chr&gt; | LAST_DATE &lt;chr&gt; |\n",
       "|---|---|\n",
       "| 1985-01-01 | 2020-12-01 |\n",
       "\n"
      ],
      "text/plain": [
       "  FIRST_DATE LAST_DATE \n",
       "1 1985-01-01 2020-12-01"
      ]
     },
     "metadata": {},
     "output_type": "display_data"
    }
   ],
   "source": [
    "dbGetQuery(conn, 'SELECT min(DATE) FIRST_DATE, max(DATE) LAST_DATE FROM FARM_PRICES')"
   ]
  },
  {
   "cell_type": "markdown",
   "metadata": {},
   "source": [
    "## Problem 9\n",
    "\n",
    "#### Which crops have ever reached a farm price greater than or equal to $350 per metric tonne?\n"
   ]
  },
  {
   "cell_type": "code",
   "execution_count": 53,
   "metadata": {
    "tags": []
   },
   "outputs": [
    {
     "data": {
      "text/html": [
       "<table>\n",
       "<caption>A data.frame: 1 × 1</caption>\n",
       "<thead>\n",
       "\t<tr><th scope=col>CROP_TYPE</th></tr>\n",
       "\t<tr><th scope=col>&lt;chr&gt;</th></tr>\n",
       "</thead>\n",
       "<tbody>\n",
       "\t<tr><td>Canola</td></tr>\n",
       "</tbody>\n",
       "</table>\n"
      ],
      "text/latex": [
       "A data.frame: 1 × 1\n",
       "\\begin{tabular}{l}\n",
       " CROP\\_TYPE\\\\\n",
       " <chr>\\\\\n",
       "\\hline\n",
       "\t Canola\\\\\n",
       "\\end{tabular}\n"
      ],
      "text/markdown": [
       "\n",
       "A data.frame: 1 × 1\n",
       "\n",
       "| CROP_TYPE &lt;chr&gt; |\n",
       "|---|\n",
       "| Canola |\n",
       "\n"
      ],
      "text/plain": [
       "  CROP_TYPE\n",
       "1 Canola   "
      ]
     },
     "metadata": {},
     "output_type": "display_data"
    }
   ],
   "source": [
    "dbGetQuery(conn, \"SELECT DISTINCT(CROP_TYPE) FROM FARM_PRICES \n",
    "WHERE PRICE_PRERMT >= 350\")"
   ]
  },
  {
   "cell_type": "markdown",
   "metadata": {},
   "source": [
    "## Problem 10\n",
    "\n",
    "#### Rank the crop types harvested in Saskatchewan in the year 2000 by their average yield. Which crop performed best?\n"
   ]
  },
  {
   "cell_type": "code",
   "execution_count": 7,
   "metadata": {
    "tags": []
   },
   "outputs": [
    {
     "data": {
      "text/html": [
       "<table>\n",
       "<caption>A data.frame: 4 × 2</caption>\n",
       "<thead>\n",
       "\t<tr><th scope=col>CROP_TYPE</th><th scope=col>AVG_YIELD_RANK</th></tr>\n",
       "\t<tr><th scope=col>&lt;chr&gt;</th><th scope=col>&lt;int&gt;</th></tr>\n",
       "</thead>\n",
       "<tbody>\n",
       "\t<tr><td>Barley</td><td>2800</td></tr>\n",
       "\t<tr><td>Wheat </td><td>2200</td></tr>\n",
       "\t<tr><td>Rye   </td><td>2100</td></tr>\n",
       "\t<tr><td>Canola</td><td>1400</td></tr>\n",
       "</tbody>\n",
       "</table>\n"
      ],
      "text/latex": [
       "A data.frame: 4 × 2\n",
       "\\begin{tabular}{ll}\n",
       " CROP\\_TYPE & AVG\\_YIELD\\_RANK\\\\\n",
       " <chr> & <int>\\\\\n",
       "\\hline\n",
       "\t Barley & 2800\\\\\n",
       "\t Wheat  & 2200\\\\\n",
       "\t Rye    & 2100\\\\\n",
       "\t Canola & 1400\\\\\n",
       "\\end{tabular}\n"
      ],
      "text/markdown": [
       "\n",
       "A data.frame: 4 × 2\n",
       "\n",
       "| CROP_TYPE &lt;chr&gt; | AVG_YIELD_RANK &lt;int&gt; |\n",
       "|---|---|\n",
       "| Barley | 2800 |\n",
       "| Wheat  | 2200 |\n",
       "| Rye    | 2100 |\n",
       "| Canola | 1400 |\n",
       "\n"
      ],
      "text/plain": [
       "  CROP_TYPE AVG_YIELD_RANK\n",
       "1 Barley    2800          \n",
       "2 Wheat     2200          \n",
       "3 Rye       2100          \n",
       "4 Canola    1400          "
      ]
     },
     "metadata": {},
     "output_type": "display_data"
    }
   ],
   "source": [
    "dbGetQuery(conn, \"SELECT CROP_TYPE, MAX(AVG_YIELD) AS  AVG_YIELD_RANK\n",
    "FROM CROP_DATA\n",
    "WHERE strftime('%Y',YEAR) = '2000' AND\n",
    "GEO = 'Saskatchewan' \n",
    "GROUP BY CROP_TYPE\n",
    "ORDER BY AVG_YIELD_RANK desc\")\n"
   ]
  },
  {
   "cell_type": "markdown",
   "metadata": {},
   "source": [
    "## Problem 11\n",
    "\n",
    "#### Rank the crops and geographies by their average yield (KG per hectare) since the year 2000. Which crop and province had the highest average yield since the year 2000?\n"
   ]
  },
  {
   "cell_type": "code",
   "execution_count": 14,
   "metadata": {
    "tags": []
   },
   "outputs": [
    {
     "data": {
      "text/html": [
       "<table>\n",
       "<caption>A data.frame: 15 × 4</caption>\n",
       "<thead>\n",
       "\t<tr><th scope=col>CROP_TYPE</th><th scope=col>GEO</th><th scope=col>AVG_YIELD</th><th scope=col>YEAR</th></tr>\n",
       "\t<tr><th scope=col>&lt;chr&gt;</th><th scope=col>&lt;chr&gt;</th><th scope=col>&lt;int&gt;</th><th scope=col>&lt;chr&gt;</th></tr>\n",
       "</thead>\n",
       "<tbody>\n",
       "\t<tr><td>Barley</td><td>Alberta     </td><td>4100</td><td>2013</td></tr>\n",
       "\t<tr><td>Barley</td><td>Alberta     </td><td>4100</td><td>2016</td></tr>\n",
       "\t<tr><td>Barley</td><td>Alberta     </td><td>3980</td><td>2020</td></tr>\n",
       "\t<tr><td>Wheat </td><td>Alberta     </td><td>3900</td><td>2013</td></tr>\n",
       "\t<tr><td>Barley</td><td>Canada      </td><td>3900</td><td>2016</td></tr>\n",
       "\t<tr><td>Wheat </td><td>Alberta     </td><td>3900</td><td>2016</td></tr>\n",
       "\t<tr><td>Barley</td><td>Alberta     </td><td>3900</td><td>2017</td></tr>\n",
       "\t<tr><td>Barley</td><td>Alberta     </td><td>3890</td><td>2019</td></tr>\n",
       "\t<tr><td>Barley</td><td>Canada      </td><td>3820</td><td>2020</td></tr>\n",
       "\t<tr><td>Barley</td><td>Canada      </td><td>3810</td><td>2019</td></tr>\n",
       "\t<tr><td>Barley</td><td>Canada      </td><td>3800</td><td>2013</td></tr>\n",
       "\t<tr><td>Barley</td><td>Saskatchewan</td><td>3800</td><td>2016</td></tr>\n",
       "\t<tr><td>Wheat </td><td>Alberta     </td><td>3750</td><td>2020</td></tr>\n",
       "\t<tr><td>Barley</td><td>Saskatchewan</td><td>3730</td><td>2019</td></tr>\n",
       "\t<tr><td>Barley</td><td>Alberta     </td><td>3700</td><td>2015</td></tr>\n",
       "</tbody>\n",
       "</table>\n"
      ],
      "text/latex": [
       "A data.frame: 15 × 4\n",
       "\\begin{tabular}{llll}\n",
       " CROP\\_TYPE & GEO & AVG\\_YIELD & YEAR\\\\\n",
       " <chr> & <chr> & <int> & <chr>\\\\\n",
       "\\hline\n",
       "\t Barley & Alberta      & 4100 & 2013\\\\\n",
       "\t Barley & Alberta      & 4100 & 2016\\\\\n",
       "\t Barley & Alberta      & 3980 & 2020\\\\\n",
       "\t Wheat  & Alberta      & 3900 & 2013\\\\\n",
       "\t Barley & Canada       & 3900 & 2016\\\\\n",
       "\t Wheat  & Alberta      & 3900 & 2016\\\\\n",
       "\t Barley & Alberta      & 3900 & 2017\\\\\n",
       "\t Barley & Alberta      & 3890 & 2019\\\\\n",
       "\t Barley & Canada       & 3820 & 2020\\\\\n",
       "\t Barley & Canada       & 3810 & 2019\\\\\n",
       "\t Barley & Canada       & 3800 & 2013\\\\\n",
       "\t Barley & Saskatchewan & 3800 & 2016\\\\\n",
       "\t Wheat  & Alberta      & 3750 & 2020\\\\\n",
       "\t Barley & Saskatchewan & 3730 & 2019\\\\\n",
       "\t Barley & Alberta      & 3700 & 2015\\\\\n",
       "\\end{tabular}\n"
      ],
      "text/markdown": [
       "\n",
       "A data.frame: 15 × 4\n",
       "\n",
       "| CROP_TYPE &lt;chr&gt; | GEO &lt;chr&gt; | AVG_YIELD &lt;int&gt; | YEAR &lt;chr&gt; |\n",
       "|---|---|---|---|\n",
       "| Barley | Alberta      | 4100 | 2013 |\n",
       "| Barley | Alberta      | 4100 | 2016 |\n",
       "| Barley | Alberta      | 3980 | 2020 |\n",
       "| Wheat  | Alberta      | 3900 | 2013 |\n",
       "| Barley | Canada       | 3900 | 2016 |\n",
       "| Wheat  | Alberta      | 3900 | 2016 |\n",
       "| Barley | Alberta      | 3900 | 2017 |\n",
       "| Barley | Alberta      | 3890 | 2019 |\n",
       "| Barley | Canada       | 3820 | 2020 |\n",
       "| Barley | Canada       | 3810 | 2019 |\n",
       "| Barley | Canada       | 3800 | 2013 |\n",
       "| Barley | Saskatchewan | 3800 | 2016 |\n",
       "| Wheat  | Alberta      | 3750 | 2020 |\n",
       "| Barley | Saskatchewan | 3730 | 2019 |\n",
       "| Barley | Alberta      | 3700 | 2015 |\n",
       "\n"
      ],
      "text/plain": [
       "   CROP_TYPE GEO          AVG_YIELD YEAR\n",
       "1  Barley    Alberta      4100      2013\n",
       "2  Barley    Alberta      4100      2016\n",
       "3  Barley    Alberta      3980      2020\n",
       "4  Wheat     Alberta      3900      2013\n",
       "5  Barley    Canada       3900      2016\n",
       "6  Wheat     Alberta      3900      2016\n",
       "7  Barley    Alberta      3900      2017\n",
       "8  Barley    Alberta      3890      2019\n",
       "9  Barley    Canada       3820      2020\n",
       "10 Barley    Canada       3810      2019\n",
       "11 Barley    Canada       3800      2013\n",
       "12 Barley    Saskatchewan 3800      2016\n",
       "13 Wheat     Alberta      3750      2020\n",
       "14 Barley    Saskatchewan 3730      2019\n",
       "15 Barley    Alberta      3700      2015"
      ]
     },
     "metadata": {},
     "output_type": "display_data"
    }
   ],
   "source": [
    "dbGetQuery(conn, \"SELECT CROP_TYPE, GEO, AVG_YIELD, strftime('%Y',YEAR) AS YEAR\n",
    "FROM CROP_DATA\n",
    "WHERE YEAR >= 2000\n",
    "ORDER BY AVG_YIELD desc\n",
    "LIMIT 15\")"
   ]
  },
  {
   "cell_type": "code",
   "execution_count": 27,
   "metadata": {
    "tags": []
   },
   "outputs": [
    {
     "data": {
      "text/html": [
       "<table>\n",
       "<caption>A data.frame: 1 × 4</caption>\n",
       "<thead>\n",
       "\t<tr><th scope=col>CROP_TYPE</th><th scope=col>GEO</th><th scope=col>AVG_YIELD</th><th scope=col>YEAR</th></tr>\n",
       "\t<tr><th scope=col>&lt;chr&gt;</th><th scope=col>&lt;chr&gt;</th><th scope=col>&lt;int&gt;</th><th scope=col>&lt;chr&gt;</th></tr>\n",
       "</thead>\n",
       "<tbody>\n",
       "\t<tr><td>Barley</td><td>Alberta</td><td>3500</td><td>1993</td></tr>\n",
       "</tbody>\n",
       "</table>\n"
      ],
      "text/latex": [
       "A data.frame: 1 × 4\n",
       "\\begin{tabular}{llll}\n",
       " CROP\\_TYPE & GEO & AVG\\_YIELD & YEAR\\\\\n",
       " <chr> & <chr> & <int> & <chr>\\\\\n",
       "\\hline\n",
       "\t Barley & Alberta & 3500 & 1993\\\\\n",
       "\\end{tabular}\n"
      ],
      "text/markdown": [
       "\n",
       "A data.frame: 1 × 4\n",
       "\n",
       "| CROP_TYPE &lt;chr&gt; | GEO &lt;chr&gt; | AVG_YIELD &lt;int&gt; | YEAR &lt;chr&gt; |\n",
       "|---|---|---|---|\n",
       "| Barley | Alberta | 3500 | 1993 |\n",
       "\n"
      ],
      "text/plain": [
       "  CROP_TYPE GEO     AVG_YIELD YEAR\n",
       "1 Barley    Alberta 3500      1993"
      ]
     },
     "metadata": {},
     "output_type": "display_data"
    }
   ],
   "source": [
    "dbGetQuery(conn, \"SELECT CROP_TYPE, GEO, AVG_YIELD, strftime('%Y',YEAR) AS YEAR\n",
    "FROM CROP_DATA\n",
    "WHERE YEAR <= 2000\n",
    "ORDER BY AVG_YIELD desc\n",
    "LIMIT 1\")"
   ]
  },
  {
   "cell_type": "markdown",
   "metadata": {},
   "source": [
    "## Problem 12\n",
    "\n",
    "#### Use a subquery to determine how much wheat was harvested in Canada in the most recent year of the data.\n"
   ]
  },
  {
   "cell_type": "code",
   "execution_count": 45,
   "metadata": {
    "tags": []
   },
   "outputs": [
    {
     "data": {
      "text/html": [
       "<table>\n",
       "<caption>A data.frame: 1 × 2</caption>\n",
       "<thead>\n",
       "\t<tr><th scope=col>TOTAL_HARVESTED_WHEAT</th><th scope=col>YEAR</th></tr>\n",
       "\t<tr><th scope=col>&lt;int&gt;</th><th scope=col>&lt;chr&gt;</th></tr>\n",
       "</thead>\n",
       "<tbody>\n",
       "\t<tr><td>10017800</td><td>2020</td></tr>\n",
       "</tbody>\n",
       "</table>\n"
      ],
      "text/latex": [
       "A data.frame: 1 × 2\n",
       "\\begin{tabular}{ll}\n",
       " TOTAL\\_HARVESTED\\_WHEAT & YEAR\\\\\n",
       " <int> & <chr>\\\\\n",
       "\\hline\n",
       "\t 10017800 & 2020\\\\\n",
       "\\end{tabular}\n"
      ],
      "text/markdown": [
       "\n",
       "A data.frame: 1 × 2\n",
       "\n",
       "| TOTAL_HARVESTED_WHEAT &lt;int&gt; | YEAR &lt;chr&gt; |\n",
       "|---|---|\n",
       "| 10017800 | 2020 |\n",
       "\n"
      ],
      "text/plain": [
       "  TOTAL_HARVESTED_WHEAT YEAR\n",
       "1 10017800              2020"
      ]
     },
     "metadata": {},
     "output_type": "display_data"
    }
   ],
   "source": [
    "dbGetQuery(conn, \"SELECT SUM(HARVESTED_AREA) AS TOTAL_HARVESTED_WHEAT, strftime('%Y',YEAR) AS YEAR\n",
    "FROM CROP_DATA\n",
    "WHERE YEAR = (SELECT MAX(YEAR) FROM CROP_DATA)\n",
    "AND GEO = 'Canada' AND CROP_TYPE = 'Wheat'\")"
   ]
  },
  {
   "cell_type": "markdown",
   "metadata": {},
   "source": [
    "## Problem 13\n",
    "\n",
    "#### Use an implicit inner join to calculate the monthly price per metric tonne of Canola grown in Saskatchewan in both Canadian and US dollars. Display the most recent 6 months of the data.\n"
   ]
  },
  {
   "cell_type": "code",
   "execution_count": 60,
   "metadata": {
    "tags": []
   },
   "outputs": [
    {
     "data": {
      "text/html": [
       "<table>\n",
       "<caption>A data.frame: 6 × 6</caption>\n",
       "<thead>\n",
       "\t<tr><th scope=col>DATE</th><th scope=col>GEO</th><th scope=col>CROP_TYPE</th><th scope=col>USDtoCAD</th><th scope=col>CAD_PRICE</th><th scope=col>USD_PRICE</th></tr>\n",
       "\t<tr><th scope=col>&lt;chr&gt;</th><th scope=col>&lt;chr&gt;</th><th scope=col>&lt;chr&gt;</th><th scope=col>&lt;dbl&gt;</th><th scope=col>&lt;dbl&gt;</th><th scope=col>&lt;dbl&gt;</th></tr>\n",
       "</thead>\n",
       "<tbody>\n",
       "\t<tr><td>2020-12-01</td><td>Saskatchewan</td><td>Canola</td><td>1.280771</td><td>507.33</td><td>396.1128</td></tr>\n",
       "\t<tr><td>2020-11-01</td><td>Saskatchewan</td><td>Canola</td><td>1.306820</td><td>495.64</td><td>379.2718</td></tr>\n",
       "\t<tr><td>2020-10-01</td><td>Saskatchewan</td><td>Canola</td><td>1.321471</td><td>474.80</td><td>359.2965</td></tr>\n",
       "\t<tr><td>2020-09-01</td><td>Saskatchewan</td><td>Canola</td><td>1.322810</td><td>463.52</td><td>350.4057</td></tr>\n",
       "\t<tr><td>2020-08-01</td><td>Saskatchewan</td><td>Canola</td><td>1.322205</td><td>464.60</td><td>351.3827</td></tr>\n",
       "\t<tr><td>2020-07-01</td><td>Saskatchewan</td><td>Canola</td><td>1.349850</td><td>462.88</td><td>342.9122</td></tr>\n",
       "</tbody>\n",
       "</table>\n"
      ],
      "text/latex": [
       "A data.frame: 6 × 6\n",
       "\\begin{tabular}{llllll}\n",
       " DATE & GEO & CROP\\_TYPE & USDtoCAD & CAD\\_PRICE & USD\\_PRICE\\\\\n",
       " <chr> & <chr> & <chr> & <dbl> & <dbl> & <dbl>\\\\\n",
       "\\hline\n",
       "\t 2020-12-01 & Saskatchewan & Canola & 1.280771 & 507.33 & 396.1128\\\\\n",
       "\t 2020-11-01 & Saskatchewan & Canola & 1.306820 & 495.64 & 379.2718\\\\\n",
       "\t 2020-10-01 & Saskatchewan & Canola & 1.321471 & 474.80 & 359.2965\\\\\n",
       "\t 2020-09-01 & Saskatchewan & Canola & 1.322810 & 463.52 & 350.4057\\\\\n",
       "\t 2020-08-01 & Saskatchewan & Canola & 1.322205 & 464.60 & 351.3827\\\\\n",
       "\t 2020-07-01 & Saskatchewan & Canola & 1.349850 & 462.88 & 342.9122\\\\\n",
       "\\end{tabular}\n"
      ],
      "text/markdown": [
       "\n",
       "A data.frame: 6 × 6\n",
       "\n",
       "| DATE &lt;chr&gt; | GEO &lt;chr&gt; | CROP_TYPE &lt;chr&gt; | USDtoCAD &lt;dbl&gt; | CAD_PRICE &lt;dbl&gt; | USD_PRICE &lt;dbl&gt; |\n",
       "|---|---|---|---|---|---|\n",
       "| 2020-12-01 | Saskatchewan | Canola | 1.280771 | 507.33 | 396.1128 |\n",
       "| 2020-11-01 | Saskatchewan | Canola | 1.306820 | 495.64 | 379.2718 |\n",
       "| 2020-10-01 | Saskatchewan | Canola | 1.321471 | 474.80 | 359.2965 |\n",
       "| 2020-09-01 | Saskatchewan | Canola | 1.322810 | 463.52 | 350.4057 |\n",
       "| 2020-08-01 | Saskatchewan | Canola | 1.322205 | 464.60 | 351.3827 |\n",
       "| 2020-07-01 | Saskatchewan | Canola | 1.349850 | 462.88 | 342.9122 |\n",
       "\n"
      ],
      "text/plain": [
       "  DATE       GEO          CROP_TYPE USDtoCAD CAD_PRICE USD_PRICE\n",
       "1 2020-12-01 Saskatchewan Canola    1.280771 507.33    396.1128 \n",
       "2 2020-11-01 Saskatchewan Canola    1.306820 495.64    379.2718 \n",
       "3 2020-10-01 Saskatchewan Canola    1.321471 474.80    359.2965 \n",
       "4 2020-09-01 Saskatchewan Canola    1.322810 463.52    350.4057 \n",
       "5 2020-08-01 Saskatchewan Canola    1.322205 464.60    351.3827 \n",
       "6 2020-07-01 Saskatchewan Canola    1.349850 462.88    342.9122 "
      ]
     },
     "metadata": {},
     "output_type": "display_data"
    }
   ],
   "source": [
    "dbGetQuery(conn, \"SELECT F.DATE, F.GEO, F.CROP_TYPE, M.FXUSDCAD AS USDtoCAD, F.PRICE_PRERMT AS CAD_PRICE,\n",
    "(F.PRICE_PRERMT/M.FXUSDCAD) AS USD_PRICE\n",
    "FROM FARM_PRICES F, MONTHLY_FX M\n",
    "WHERE strftime('%Y',F.DATE) = strftime('%Y',M.DATE)\n",
    "AND strftime('%m',F.DATE) = strftime('%m',M.DATE)\n",
    "AND CROP_TYPE ='Canola' \n",
    "AND GEO = 'Saskatchewan' \n",
    "ORDER BY F.DATE desc LIMIT 6\")"
   ]
  },
  {
   "cell_type": "code",
   "execution_count": 24,
   "metadata": {
    "tags": []
   },
   "outputs": [],
   "source": [
    "dbDisconnect(conn)"
   ]
  },
  {
   "cell_type": "markdown",
   "metadata": {},
   "source": [
    "## Author(s)\n",
    "\n",
    "<h4> Jeff Grossman </h4>\n",
    "\n",
    "<h4> D.M. Naidu </h4>\n",
    "\n",
    "## Contributor(s)\n",
    "\n",
    "<h4> Rav Ahuja </h4>\n",
    "\n",
    "<h4> Lakshmi Holla </h4>\n",
    "\n",
    "\n",
    "## Change log\n",
    "\n",
    "| Date       | Version | Changed by    | Change Description                        |\n",
    "| ---------- | ------- | ------------- | ----------------------------------------- |\n",
    "| 2022-03-03 | 1.0     | D.M. Naidu    | Converted intial version to RSQLite       |\n",
    "\n",
    "## <h3 align=\"center\"> © IBM Corporation 2022. All rights reserved. <h3/>\n"
   ]
  }
 ],
 "metadata": {
  "kernelspec": {
   "display_name": "R",
   "language": "R",
   "name": "conda-env-r-r"
  },
  "language_info": {
   "codemirror_mode": "r",
   "file_extension": ".r",
   "mimetype": "text/x-r-source",
   "name": "R",
   "pygments_lexer": "r",
   "version": "3.5.1"
  }
 },
 "nbformat": 4,
 "nbformat_minor": 4
}
